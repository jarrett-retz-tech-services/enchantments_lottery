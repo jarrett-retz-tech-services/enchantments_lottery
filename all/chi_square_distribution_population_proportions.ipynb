{
 "cells": [
  {
   "cell_type": "markdown",
   "metadata": {},
   "source": [
    "# Comparing the Population Proportions with Chi-Square\n",
    "\n",
    "## Introduction\n",
    "\n",
    "Recently, I've been reading about the chi-square distribution and the many statistical analyses you can perform with it. One of the first analyses we can run is to test if two population proportions are equal. This is useful if someone makes the claim that there are no differences between different types of a categorical variable (i.e., permit zone) or if someone claims that there *is* a difference between categorical variables (i.e., day range, month, day).\n",
    "\n",
    "This notebook contains two analyses comparing the population proportions for awarded entries.\n",
    "\n",
    "The first analysis looks at the **odds of being awarded a permit between the different zones** and whether the proportions between the zones are equal (spoiler, they are not).\n",
    "\n",
    "The second analysis explores the claim on the National Forest website that:\n",
    "\n",
    ">If you really want to do a Friday-Sunday trip in mid-August, by all means apply for that trip, but remember that you’re odds of getting a permit will be less than if you tried for a Monday-Wednesday trip in July.\n",
    ">\n",
    "> *\"How can I improve my chances of getting a permit?\"*, [Forest Service](https://www.fs.usda.gov/detail/okawen/passes-permits/recreation/?cid=fsbdev3_053607)\n",
    "\n",
    "Consequently, I compared the **awarded entries for Friday-Sunday trips in mid-August and compared the proportion to awarded entries for Monday-Wednesday trips in July**."
   ]
  },
  {
   "cell_type": "code",
   "execution_count": 1,
   "metadata": {},
   "outputs": [
    {
     "data": {
      "text/html": [
       "<div>\n",
       "<style scoped>\n",
       "    .dataframe tbody tr th:only-of-type {\n",
       "        vertical-align: middle;\n",
       "    }\n",
       "\n",
       "    .dataframe tbody tr th {\n",
       "        vertical-align: top;\n",
       "    }\n",
       "\n",
       "    .dataframe thead th {\n",
       "        text-align: right;\n",
       "    }\n",
       "</style>\n",
       "<table border=\"1\" class=\"dataframe\">\n",
       "  <thead>\n",
       "    <tr style=\"text-align: right;\">\n",
       "      <th></th>\n",
       "      <th>preferred_zone</th>\n",
       "      <th>preferred_entry_date</th>\n",
       "      <th>minimum_acceptable_group_size</th>\n",
       "      <th>results_status</th>\n",
       "      <th>awarded_preference</th>\n",
       "      <th>awarded_entry_date</th>\n",
       "      <th>awarded_entrance_code_name</th>\n",
       "      <th>awarded_group_size</th>\n",
       "      <th>processing_sequence</th>\n",
       "      <th>state</th>\n",
       "      <th>year</th>\n",
       "      <th>awarded</th>\n",
       "      <th>preferred_option</th>\n",
       "      <th>preferred_entry_date_month</th>\n",
       "      <th>preferred_entry_date_day</th>\n",
       "    </tr>\n",
       "  </thead>\n",
       "  <tbody>\n",
       "    <tr>\n",
       "      <th>0</th>\n",
       "      <td>Colchuck Zone</td>\n",
       "      <td>2020-06-26</td>\n",
       "      <td>0</td>\n",
       "      <td>Unsuccessful</td>\n",
       "      <td>0</td>\n",
       "      <td>1970-01-01</td>\n",
       "      <td>NaN</td>\n",
       "      <td>0</td>\n",
       "      <td>0</td>\n",
       "      <td>NaN</td>\n",
       "      <td>2020</td>\n",
       "      <td>False</td>\n",
       "      <td>1</td>\n",
       "      <td>June</td>\n",
       "      <td>Friday</td>\n",
       "    </tr>\n",
       "    <tr>\n",
       "      <th>1</th>\n",
       "      <td>Core Enchantment Zone</td>\n",
       "      <td>2020-08-01</td>\n",
       "      <td>0</td>\n",
       "      <td>Unsuccessful</td>\n",
       "      <td>0</td>\n",
       "      <td>1970-01-01</td>\n",
       "      <td>NaN</td>\n",
       "      <td>0</td>\n",
       "      <td>0</td>\n",
       "      <td>NaN</td>\n",
       "      <td>2020</td>\n",
       "      <td>False</td>\n",
       "      <td>1</td>\n",
       "      <td>August</td>\n",
       "      <td>Saturday</td>\n",
       "    </tr>\n",
       "    <tr>\n",
       "      <th>2</th>\n",
       "      <td>Core Enchantment Zone</td>\n",
       "      <td>2020-09-19</td>\n",
       "      <td>0</td>\n",
       "      <td>Unsuccessful</td>\n",
       "      <td>0</td>\n",
       "      <td>1970-01-01</td>\n",
       "      <td>NaN</td>\n",
       "      <td>0</td>\n",
       "      <td>0</td>\n",
       "      <td>NaN</td>\n",
       "      <td>2020</td>\n",
       "      <td>False</td>\n",
       "      <td>1</td>\n",
       "      <td>September</td>\n",
       "      <td>Saturday</td>\n",
       "    </tr>\n",
       "    <tr>\n",
       "      <th>3</th>\n",
       "      <td>Core Enchantment Zone</td>\n",
       "      <td>2020-08-22</td>\n",
       "      <td>0</td>\n",
       "      <td>Unsuccessful</td>\n",
       "      <td>0</td>\n",
       "      <td>1970-01-01</td>\n",
       "      <td>NaN</td>\n",
       "      <td>0</td>\n",
       "      <td>0</td>\n",
       "      <td>NaN</td>\n",
       "      <td>2020</td>\n",
       "      <td>False</td>\n",
       "      <td>1</td>\n",
       "      <td>August</td>\n",
       "      <td>Saturday</td>\n",
       "    </tr>\n",
       "    <tr>\n",
       "      <th>4</th>\n",
       "      <td>Snow Zone</td>\n",
       "      <td>2020-07-17</td>\n",
       "      <td>0</td>\n",
       "      <td>Awarded</td>\n",
       "      <td>1</td>\n",
       "      <td>2020-07-17</td>\n",
       "      <td>Snow Zone</td>\n",
       "      <td>6</td>\n",
       "      <td>0</td>\n",
       "      <td>NaN</td>\n",
       "      <td>2020</td>\n",
       "      <td>True</td>\n",
       "      <td>1</td>\n",
       "      <td>July</td>\n",
       "      <td>Friday</td>\n",
       "    </tr>\n",
       "    <tr>\n",
       "      <th>...</th>\n",
       "      <td>...</td>\n",
       "      <td>...</td>\n",
       "      <td>...</td>\n",
       "      <td>...</td>\n",
       "      <td>...</td>\n",
       "      <td>...</td>\n",
       "      <td>...</td>\n",
       "      <td>...</td>\n",
       "      <td>...</td>\n",
       "      <td>...</td>\n",
       "      <td>...</td>\n",
       "      <td>...</td>\n",
       "      <td>...</td>\n",
       "      <td>...</td>\n",
       "      <td>...</td>\n",
       "    </tr>\n",
       "    <tr>\n",
       "      <th>406562</th>\n",
       "      <td>Core Enchantment Zone</td>\n",
       "      <td>2023-08-11</td>\n",
       "      <td>4</td>\n",
       "      <td>Unsuccessful</td>\n",
       "      <td>0</td>\n",
       "      <td>1970-01-01</td>\n",
       "      <td>NaN</td>\n",
       "      <td>0</td>\n",
       "      <td>36252</td>\n",
       "      <td>WA</td>\n",
       "      <td>2023</td>\n",
       "      <td>False</td>\n",
       "      <td>3</td>\n",
       "      <td>August</td>\n",
       "      <td>Friday</td>\n",
       "    </tr>\n",
       "    <tr>\n",
       "      <th>406563</th>\n",
       "      <td>Colchuck Zone</td>\n",
       "      <td>2023-07-24</td>\n",
       "      <td>2</td>\n",
       "      <td>Awarded</td>\n",
       "      <td>1</td>\n",
       "      <td>2023-05-31</td>\n",
       "      <td>Core Enchantment Zone</td>\n",
       "      <td>4</td>\n",
       "      <td>1504</td>\n",
       "      <td>WA</td>\n",
       "      <td>2023</td>\n",
       "      <td>False</td>\n",
       "      <td>3</td>\n",
       "      <td>July</td>\n",
       "      <td>Monday</td>\n",
       "    </tr>\n",
       "    <tr>\n",
       "      <th>406564</th>\n",
       "      <td>Core Enchantment Zone</td>\n",
       "      <td>2023-07-27</td>\n",
       "      <td>5</td>\n",
       "      <td>Unsuccessful</td>\n",
       "      <td>0</td>\n",
       "      <td>1970-01-01</td>\n",
       "      <td>NaN</td>\n",
       "      <td>0</td>\n",
       "      <td>33420</td>\n",
       "      <td>CA</td>\n",
       "      <td>2023</td>\n",
       "      <td>False</td>\n",
       "      <td>3</td>\n",
       "      <td>July</td>\n",
       "      <td>Thursday</td>\n",
       "    </tr>\n",
       "    <tr>\n",
       "      <th>406565</th>\n",
       "      <td>Core Enchantment Zone</td>\n",
       "      <td>2023-05-21</td>\n",
       "      <td>8</td>\n",
       "      <td>Unsuccessful</td>\n",
       "      <td>0</td>\n",
       "      <td>1970-01-01</td>\n",
       "      <td>NaN</td>\n",
       "      <td>0</td>\n",
       "      <td>28321</td>\n",
       "      <td>NY</td>\n",
       "      <td>2023</td>\n",
       "      <td>False</td>\n",
       "      <td>3</td>\n",
       "      <td>May</td>\n",
       "      <td>Sunday</td>\n",
       "    </tr>\n",
       "    <tr>\n",
       "      <th>406566</th>\n",
       "      <td>Colchuck Zone</td>\n",
       "      <td>2023-09-14</td>\n",
       "      <td>1</td>\n",
       "      <td>Unsuccessful</td>\n",
       "      <td>0</td>\n",
       "      <td>1970-01-01</td>\n",
       "      <td>NaN</td>\n",
       "      <td>0</td>\n",
       "      <td>32432</td>\n",
       "      <td>WA</td>\n",
       "      <td>2023</td>\n",
       "      <td>False</td>\n",
       "      <td>3</td>\n",
       "      <td>September</td>\n",
       "      <td>Thursday</td>\n",
       "    </tr>\n",
       "  </tbody>\n",
       "</table>\n",
       "<p>406567 rows × 15 columns</p>\n",
       "</div>"
      ],
      "text/plain": [
       "               preferred_zone preferred_entry_date  \\\n",
       "0               Colchuck Zone           2020-06-26   \n",
       "1       Core Enchantment Zone           2020-08-01   \n",
       "2       Core Enchantment Zone           2020-09-19   \n",
       "3       Core Enchantment Zone           2020-08-22   \n",
       "4                   Snow Zone           2020-07-17   \n",
       "...                       ...                  ...   \n",
       "406562  Core Enchantment Zone           2023-08-11   \n",
       "406563          Colchuck Zone           2023-07-24   \n",
       "406564  Core Enchantment Zone           2023-07-27   \n",
       "406565  Core Enchantment Zone           2023-05-21   \n",
       "406566          Colchuck Zone           2023-09-14   \n",
       "\n",
       "        minimum_acceptable_group_size results_status  awarded_preference  \\\n",
       "0                                   0   Unsuccessful                   0   \n",
       "1                                   0   Unsuccessful                   0   \n",
       "2                                   0   Unsuccessful                   0   \n",
       "3                                   0   Unsuccessful                   0   \n",
       "4                                   0        Awarded                   1   \n",
       "...                               ...            ...                 ...   \n",
       "406562                              4   Unsuccessful                   0   \n",
       "406563                              2        Awarded                   1   \n",
       "406564                              5   Unsuccessful                   0   \n",
       "406565                              8   Unsuccessful                   0   \n",
       "406566                              1   Unsuccessful                   0   \n",
       "\n",
       "       awarded_entry_date awarded_entrance_code_name  awarded_group_size  \\\n",
       "0              1970-01-01                        NaN                   0   \n",
       "1              1970-01-01                        NaN                   0   \n",
       "2              1970-01-01                        NaN                   0   \n",
       "3              1970-01-01                        NaN                   0   \n",
       "4              2020-07-17                  Snow Zone                   6   \n",
       "...                   ...                        ...                 ...   \n",
       "406562         1970-01-01                        NaN                   0   \n",
       "406563         2023-05-31      Core Enchantment Zone                   4   \n",
       "406564         1970-01-01                        NaN                   0   \n",
       "406565         1970-01-01                        NaN                   0   \n",
       "406566         1970-01-01                        NaN                   0   \n",
       "\n",
       "        processing_sequence state  year  awarded  preferred_option  \\\n",
       "0                         0   NaN  2020    False                 1   \n",
       "1                         0   NaN  2020    False                 1   \n",
       "2                         0   NaN  2020    False                 1   \n",
       "3                         0   NaN  2020    False                 1   \n",
       "4                         0   NaN  2020     True                 1   \n",
       "...                     ...   ...   ...      ...               ...   \n",
       "406562                36252    WA  2023    False                 3   \n",
       "406563                 1504    WA  2023    False                 3   \n",
       "406564                33420    CA  2023    False                 3   \n",
       "406565                28321    NY  2023    False                 3   \n",
       "406566                32432    WA  2023    False                 3   \n",
       "\n",
       "       preferred_entry_date_month preferred_entry_date_day  \n",
       "0                            June                   Friday  \n",
       "1                          August                 Saturday  \n",
       "2                       September                 Saturday  \n",
       "3                          August                 Saturday  \n",
       "4                            July                   Friday  \n",
       "...                           ...                      ...  \n",
       "406562                     August                   Friday  \n",
       "406563                       July                   Monday  \n",
       "406564                       July                 Thursday  \n",
       "406565                        May                   Sunday  \n",
       "406566                  September                 Thursday  \n",
       "\n",
       "[406567 rows x 15 columns]"
      ]
     },
     "execution_count": 1,
     "metadata": {},
     "output_type": "execute_result"
    }
   ],
   "source": [
    "# Import the data\n",
    "import pandas as pd\n",
    "import numpy as np\n",
    "\n",
    "# Define the data types for specific columns\n",
    "# preferred_zone                           object\n",
    "# preferred_entry_date             datetime64[ns]\n",
    "# minimum_acceptable_group_size             int64\n",
    "# results_status                           object\n",
    "# awarded_preference                        int64\n",
    "# awarded_entry_date               datetime64[ns]\n",
    "# awarded_entrance_code_name               object\n",
    "# awarded_group_size                        int64\n",
    "# processing_sequence                       int64\n",
    "# state                                    object\n",
    "# year                                      int64\n",
    "# awarded                                    bool\n",
    "# preferred_option                          int64\n",
    "# preferred_entry_date_month               object\n",
    "# preferred_entry_date_day                 object\n",
    "\n",
    "dtype_dict = {\n",
    "    \"preferred_zone\": \"category\",\n",
    "    \"minimum_acceptable_group_size\": \"int64\",\n",
    "    \"results_status\": \"category\",\n",
    "    \"awarded_preference\": \"int64\",\n",
    "    \"awarded_entrance_code_name\": \"category\",\n",
    "    \"awarded_group_size\": \"int64\",\n",
    "    \"processing_sequence\": \"int64\",\n",
    "    \"state\": \"category\",\n",
    "    \"year\": \"int64\",\n",
    "    \"awarded\": \"bool\",\n",
    "    \"preferred_option\": \"int64\",\n",
    "    \"preferred_entry_date_month\": \"category\",\n",
    "    \"preferred_entry_date_day\": \"category\",\n",
    "}\n",
    "\n",
    "# Import the combined_results_split_actual.csv file\n",
    "df = pd.read_csv('combined_results_split_actual.csv',\n",
    "    # Import was failing to parse date columns, so I\n",
    "    # to add the column names\n",
    "    parse_dates=[\n",
    "        \"preferred_entry_date\",\n",
    "        \"awarded_entry_date\",\n",
    "    ],\n",
    "    date_format=\"%m-%d-%Y\",  # Align format with export format\n",
    "    dtype=dtype_dict,  # Specify data types for columns\n",
    ")\n",
    "\n",
    "df"
   ]
  },
  {
   "cell_type": "markdown",
   "metadata": {},
   "source": [
    "## Compare the proportions of awarded permits between the different zones"
   ]
  },
  {
   "cell_type": "code",
   "execution_count": 2,
   "metadata": {},
   "outputs": [
    {
     "data": {
      "text/html": [
       "<div>\n",
       "<style scoped>\n",
       "    .dataframe tbody tr th:only-of-type {\n",
       "        vertical-align: middle;\n",
       "    }\n",
       "\n",
       "    .dataframe tbody tr th {\n",
       "        vertical-align: top;\n",
       "    }\n",
       "\n",
       "    .dataframe thead th {\n",
       "        text-align: right;\n",
       "    }\n",
       "</style>\n",
       "<table border=\"1\" class=\"dataframe\">\n",
       "  <thead>\n",
       "    <tr style=\"text-align: right;\">\n",
       "      <th>awarded</th>\n",
       "      <th>False</th>\n",
       "      <th>True</th>\n",
       "      <th>All</th>\n",
       "    </tr>\n",
       "    <tr>\n",
       "      <th>preferred_zone</th>\n",
       "      <th></th>\n",
       "      <th></th>\n",
       "      <th></th>\n",
       "    </tr>\n",
       "  </thead>\n",
       "  <tbody>\n",
       "    <tr>\n",
       "      <th>Colchuck Zone</th>\n",
       "      <td>62461</td>\n",
       "      <td>1403</td>\n",
       "      <td>63864</td>\n",
       "    </tr>\n",
       "    <tr>\n",
       "      <th>Core Enchantment Zone</th>\n",
       "      <td>260327</td>\n",
       "      <td>2875</td>\n",
       "      <td>263202</td>\n",
       "    </tr>\n",
       "    <tr>\n",
       "      <th>Eightmile/Caroline Zone</th>\n",
       "      <td>7824</td>\n",
       "      <td>1112</td>\n",
       "      <td>8936</td>\n",
       "    </tr>\n",
       "    <tr>\n",
       "      <th>Eightmile/Caroline Zone (stock)</th>\n",
       "      <td>927</td>\n",
       "      <td>147</td>\n",
       "      <td>1074</td>\n",
       "    </tr>\n",
       "    <tr>\n",
       "      <th>Snow Zone</th>\n",
       "      <td>42171</td>\n",
       "      <td>2544</td>\n",
       "      <td>44715</td>\n",
       "    </tr>\n",
       "    <tr>\n",
       "      <th>Stuart  Zone</th>\n",
       "      <td>22242</td>\n",
       "      <td>1865</td>\n",
       "      <td>24107</td>\n",
       "    </tr>\n",
       "    <tr>\n",
       "      <th>Stuart Zone (stock)</th>\n",
       "      <td>600</td>\n",
       "      <td>69</td>\n",
       "      <td>669</td>\n",
       "    </tr>\n",
       "    <tr>\n",
       "      <th>All</th>\n",
       "      <td>396552</td>\n",
       "      <td>10015</td>\n",
       "      <td>406567</td>\n",
       "    </tr>\n",
       "  </tbody>\n",
       "</table>\n",
       "</div>"
      ],
      "text/plain": [
       "awarded                           False   True     All\n",
       "preferred_zone                                        \n",
       "Colchuck Zone                     62461   1403   63864\n",
       "Core Enchantment Zone            260327   2875  263202\n",
       "Eightmile/Caroline Zone            7824   1112    8936\n",
       "Eightmile/Caroline Zone (stock)     927    147    1074\n",
       "Snow Zone                         42171   2544   44715\n",
       "Stuart  Zone                      22242   1865   24107\n",
       "Stuart Zone (stock)                 600     69     669\n",
       "All                              396552  10015  406567"
      ]
     },
     "execution_count": 2,
     "metadata": {},
     "output_type": "execute_result"
    }
   ],
   "source": [
    "# Create a filter for the entries that were awarded their desired zone and preferred option\n",
    "awarded_desired_zone = df[\"preferred_zone\"] == df[\"awarded_entrance_code_name\"]\n",
    "# Create a filter for the entries that were awarded their preferred option\n",
    "awarded_preferred_option = df[\"preferred_option\"] == df[\"awarded_preference\"]\n",
    "\n",
    "# Filter for the winners\n",
    "awarded = df[awarded_desired_zone & awarded_preferred_option]\n",
    "# Filter for the losers\n",
    "not_awarded = df[~awarded_desired_zone | ~awarded_preferred_option]\n",
    "\n",
    "# Create a crosstab of awarded and not awarded entries by zone\n",
    "zone_crosstab = pd.crosstab(df[\"preferred_zone\"], df[\"awarded\"], margins=True)\n",
    "\n",
    "zone_crosstab"
   ]
  },
  {
   "cell_type": "markdown",
   "metadata": {},
   "source": [
    "Looking at the above data, we can intuit that the proportions are not going to be equal for the different zones."
   ]
  },
  {
   "cell_type": "markdown",
   "metadata": {},
   "source": [
    "### Step 1: Identify the null and alternative hypotheses\n",
    "\n",
    "**H0**: All means are equal for the different permit zones\n",
    "\n",
    "**H1**: All means are not equal for the different permit zones"
   ]
  },
  {
   "cell_type": "markdown",
   "metadata": {},
   "source": [
    "### Step 2: Calculated the expected frequencies"
   ]
  },
  {
   "cell_type": "code",
   "execution_count": 3,
   "metadata": {},
   "outputs": [
    {
     "name": "stdout",
     "output_type": "stream",
     "text": [
      "Raw numbers for the calculation:\n",
      "Total entries: 406567\n",
      "Total awarded entries: 10015\n",
      "Pooled proportion: 0.02463308630557817\n"
     ]
    }
   ],
   "source": [
    "# Calculate overall proportion\n",
    "overall_proportion = awarded[\"preferred_zone\"].count() / df[\"preferred_zone\"].count()\n",
    "\n",
    "# Print the raw numbers for the calculation\n",
    "print(f\"Raw numbers for the calculation:\")\n",
    "print(f\"Total entries: {df['preferred_zone'].count()}\")\n",
    "print(f\"Total awarded entries: {awarded['preferred_zone'].count()}\")\n",
    "\n",
    "print(f\"Pooled proportion: {overall_proportion}\")"
   ]
  },
  {
   "cell_type": "code",
   "execution_count": 4,
   "metadata": {},
   "outputs": [
    {
     "data": {
      "text/html": [
       "<div>\n",
       "<style scoped>\n",
       "    .dataframe tbody tr th:only-of-type {\n",
       "        vertical-align: middle;\n",
       "    }\n",
       "\n",
       "    .dataframe tbody tr th {\n",
       "        vertical-align: top;\n",
       "    }\n",
       "\n",
       "    .dataframe thead th {\n",
       "        text-align: right;\n",
       "    }\n",
       "</style>\n",
       "<table border=\"1\" class=\"dataframe\">\n",
       "  <thead>\n",
       "    <tr style=\"text-align: right;\">\n",
       "      <th></th>\n",
       "      <th>awarded</th>\n",
       "      <th>total</th>\n",
       "      <th>expected</th>\n",
       "    </tr>\n",
       "    <tr>\n",
       "      <th>preferred_zone</th>\n",
       "      <th></th>\n",
       "      <th></th>\n",
       "      <th></th>\n",
       "    </tr>\n",
       "  </thead>\n",
       "  <tbody>\n",
       "    <tr>\n",
       "      <th>Colchuck Zone</th>\n",
       "      <td>1403</td>\n",
       "      <td>63864</td>\n",
       "      <td>1573</td>\n",
       "    </tr>\n",
       "    <tr>\n",
       "      <th>Core Enchantment Zone</th>\n",
       "      <td>2875</td>\n",
       "      <td>263202</td>\n",
       "      <td>6483</td>\n",
       "    </tr>\n",
       "    <tr>\n",
       "      <th>Eightmile/Caroline Zone</th>\n",
       "      <td>1112</td>\n",
       "      <td>8936</td>\n",
       "      <td>220</td>\n",
       "    </tr>\n",
       "    <tr>\n",
       "      <th>Eightmile/Caroline Zone (stock)</th>\n",
       "      <td>147</td>\n",
       "      <td>1074</td>\n",
       "      <td>26</td>\n",
       "    </tr>\n",
       "    <tr>\n",
       "      <th>Snow Zone</th>\n",
       "      <td>2544</td>\n",
       "      <td>44715</td>\n",
       "      <td>1101</td>\n",
       "    </tr>\n",
       "    <tr>\n",
       "      <th>Stuart  Zone</th>\n",
       "      <td>1865</td>\n",
       "      <td>24107</td>\n",
       "      <td>594</td>\n",
       "    </tr>\n",
       "    <tr>\n",
       "      <th>Stuart Zone (stock)</th>\n",
       "      <td>69</td>\n",
       "      <td>669</td>\n",
       "      <td>16</td>\n",
       "    </tr>\n",
       "  </tbody>\n",
       "</table>\n",
       "</div>"
      ],
      "text/plain": [
       "                                 awarded   total  expected\n",
       "preferred_zone                                            \n",
       "Colchuck Zone                       1403   63864      1573\n",
       "Core Enchantment Zone               2875  263202      6483\n",
       "Eightmile/Caroline Zone             1112    8936       220\n",
       "Eightmile/Caroline Zone (stock)      147    1074        26\n",
       "Snow Zone                           2544   44715      1101\n",
       "Stuart  Zone                        1865   24107       594\n",
       "Stuart Zone (stock)                   69     669        16"
      ]
     },
     "execution_count": 4,
     "metadata": {},
     "output_type": "execute_result"
    }
   ],
   "source": [
    "# For each type of zone, calculate the proportion of awarded entries using the overall proportion\n",
    "chi_squ_chart = df[[\"awarded\", \"preferred_zone\"]].groupby(\"preferred_zone\", observed=True).sum()\n",
    "\n",
    "# Add the total number of entries for each zone\n",
    "chi_squ_chart[\"total\"] = df[\"preferred_zone\"].value_counts()\n",
    "\n",
    "# Calculate the expected number of awarded entries for each zone\n",
    "chi_squ_chart[\"expected\"] = round(chi_squ_chart[\"total\"] * overall_proportion).astype(int)\n",
    "\n",
    "chi_squ_chart"
   ]
  },
  {
   "cell_type": "markdown",
   "metadata": {},
   "source": [
    "### Step 3: Calculate the chi-squared test statistic"
   ]
  },
  {
   "cell_type": "code",
   "execution_count": 5,
   "metadata": {},
   "outputs": [
    {
     "data": {
      "text/html": [
       "<div>\n",
       "<style scoped>\n",
       "    .dataframe tbody tr th:only-of-type {\n",
       "        vertical-align: middle;\n",
       "    }\n",
       "\n",
       "    .dataframe tbody tr th {\n",
       "        vertical-align: top;\n",
       "    }\n",
       "\n",
       "    .dataframe thead th {\n",
       "        text-align: right;\n",
       "    }\n",
       "</style>\n",
       "<table border=\"1\" class=\"dataframe\">\n",
       "  <thead>\n",
       "    <tr style=\"text-align: right;\">\n",
       "      <th></th>\n",
       "      <th>awarded</th>\n",
       "      <th>total</th>\n",
       "      <th>expected</th>\n",
       "      <th>diff_squ</th>\n",
       "    </tr>\n",
       "    <tr>\n",
       "      <th>preferred_zone</th>\n",
       "      <th></th>\n",
       "      <th></th>\n",
       "      <th></th>\n",
       "      <th></th>\n",
       "    </tr>\n",
       "  </thead>\n",
       "  <tbody>\n",
       "    <tr>\n",
       "      <th>Colchuck Zone</th>\n",
       "      <td>1403</td>\n",
       "      <td>63864</td>\n",
       "      <td>1573</td>\n",
       "      <td>28900</td>\n",
       "    </tr>\n",
       "    <tr>\n",
       "      <th>Core Enchantment Zone</th>\n",
       "      <td>2875</td>\n",
       "      <td>263202</td>\n",
       "      <td>6483</td>\n",
       "      <td>13017664</td>\n",
       "    </tr>\n",
       "    <tr>\n",
       "      <th>Eightmile/Caroline Zone</th>\n",
       "      <td>1112</td>\n",
       "      <td>8936</td>\n",
       "      <td>220</td>\n",
       "      <td>795664</td>\n",
       "    </tr>\n",
       "    <tr>\n",
       "      <th>Eightmile/Caroline Zone (stock)</th>\n",
       "      <td>147</td>\n",
       "      <td>1074</td>\n",
       "      <td>26</td>\n",
       "      <td>14641</td>\n",
       "    </tr>\n",
       "    <tr>\n",
       "      <th>Snow Zone</th>\n",
       "      <td>2544</td>\n",
       "      <td>44715</td>\n",
       "      <td>1101</td>\n",
       "      <td>2082249</td>\n",
       "    </tr>\n",
       "    <tr>\n",
       "      <th>Stuart  Zone</th>\n",
       "      <td>1865</td>\n",
       "      <td>24107</td>\n",
       "      <td>594</td>\n",
       "      <td>1615441</td>\n",
       "    </tr>\n",
       "    <tr>\n",
       "      <th>Stuart Zone (stock)</th>\n",
       "      <td>69</td>\n",
       "      <td>669</td>\n",
       "      <td>16</td>\n",
       "      <td>2809</td>\n",
       "    </tr>\n",
       "  </tbody>\n",
       "</table>\n",
       "</div>"
      ],
      "text/plain": [
       "                                 awarded   total  expected  diff_squ\n",
       "preferred_zone                                                      \n",
       "Colchuck Zone                       1403   63864      1573     28900\n",
       "Core Enchantment Zone               2875  263202      6483  13017664\n",
       "Eightmile/Caroline Zone             1112    8936       220    795664\n",
       "Eightmile/Caroline Zone (stock)      147    1074        26     14641\n",
       "Snow Zone                           2544   44715      1101   2082249\n",
       "Stuart  Zone                        1865   24107       594   1615441\n",
       "Stuart Zone (stock)                   69     669        16      2809"
      ]
     },
     "execution_count": 5,
     "metadata": {},
     "output_type": "execute_result"
    }
   ],
   "source": [
    "# Calculate the difference between the expected and awarded entries and square it\n",
    "chi_squ_chart[\"diff_squ\"] = (chi_squ_chart[\"awarded\"] - chi_squ_chart[\"expected\"]).pow(2)\n",
    "\n",
    "chi_squ_chart"
   ]
  },
  {
   "cell_type": "code",
   "execution_count": 6,
   "metadata": {},
   "outputs": [
    {
     "data": {
      "text/plain": [
       "1753.4573055028463"
      ]
     },
     "execution_count": 6,
     "metadata": {},
     "output_type": "execute_result"
    }
   ],
   "source": [
    "# Calculate the test statistic by summing the squared differences and dividing by the expected number of awarded entries \n",
    "chi_squ_test_stat = chi_squ_chart[\"diff_squ\"].sum() / chi_squ_chart[\"expected\"].sum()\n",
    "\n",
    "chi_squ_test_stat"
   ]
  },
  {
   "cell_type": "markdown",
   "metadata": {},
   "source": [
    "### Step 4: Determine chi-square critical value"
   ]
  },
  {
   "cell_type": "code",
   "execution_count": 7,
   "metadata": {},
   "outputs": [
    {
     "data": {
      "text/plain": [
       "10.644640675668422"
      ]
     },
     "execution_count": 7,
     "metadata": {},
     "output_type": "execute_result"
    }
   ],
   "source": [
    "# Determine chi-square critical value with df = 6 and alpha = 0.10 use scipy.stats\n",
    "from scipy.stats import chi2\n",
    "\n",
    "chi_squ_crit_val = chi2.ppf(0.90, 6)\n",
    "\n",
    "chi_squ_crit_val"
   ]
  },
  {
   "cell_type": "code",
   "execution_count": 8,
   "metadata": {},
   "outputs": [
    {
     "data": {
      "text/plain": [
       "0.0"
      ]
     },
     "execution_count": 8,
     "metadata": {},
     "output_type": "execute_result"
    }
   ],
   "source": [
    "# Calculate the p-value using the chi-square test\n",
    "chi_squ_p_value = 1 - chi2.cdf(chi_squ_test_stat, 6)\n",
    "\n",
    "chi_squ_p_value"
   ]
  },
  {
   "cell_type": "markdown",
   "metadata": {},
   "source": [
    "### Step 5: Compare the Test Statistic to the Critical Value\n",
    "\n",
    "Because the test statistic is greater than the critical value we reject the null hypothesis that sample means are all equal. "
   ]
  },
  {
   "cell_type": "markdown",
   "metadata": {},
   "source": [
    "### Step 6: State your conclusions\n",
    "\n",
    "Because the test statistic is so much greater than the critical value and the the p-value is essentially zero, we can say that the proportion of awarded permits is not even across all the permit zones zones."
   ]
  },
  {
   "cell_type": "markdown",
   "metadata": {},
   "source": [
    "## Compare the Population Proportions by Day of the Week and Month\n",
    "\n",
    ">If you really want to do a Friday-Sunday trip in mid-August, by all means apply for that trip, but remember that you’re odds of getting a permit will be less than if you tried for a Monday-Wednesday trip in July.\n",
    ">\n",
    "> *\"How can I improve my chances of getting a permit?\"*, [Forest Service](https://www.fs.usda.gov/detail/okawen/passes-permits/recreation/?cid=fsbdev3_053607)\n",
    "\n",
    "Technically, the odds of getting a permit may be less, but that doesn't give us a truth claim about the different days. Let's explore the two populations:\n",
    "1. Friday-Sunday trip in mid-August\n",
    "2. Monday-Wednesday trip in July\n"
   ]
  },
  {
   "cell_type": "markdown",
   "metadata": {},
   "source": [
    "### Step 1: State the null and alternative hypothesis and set a level for alpha\n",
    "\n",
    "**H0**, The means between the two date ranges are equal\n",
    "\n",
    "**H1**, The means between the two date ranges are not equal\n",
    "\n",
    "**alpha** = 0.10"
   ]
  },
  {
   "cell_type": "markdown",
   "metadata": {},
   "source": [
    "### Step 2: Calculate the expected frequencies for the two populations"
   ]
  },
  {
   "cell_type": "code",
   "execution_count": 9,
   "metadata": {},
   "outputs": [
    {
     "name": "stdout",
     "output_type": "stream",
     "text": [
      "Total Fri-Sun Entries in Mid August: 26948\n",
      "Total Mon-Wed Entries in July: 37497\n"
     ]
    }
   ],
   "source": [
    "# Get the entries for Friday-Sunday trips in mid-August\n",
    "friday_sunday_entries = df[\n",
    "    (df[\"preferred_entry_date\"].dt.dayofweek >= 4) # Friday\n",
    "    & (df[\"preferred_entry_date\"].dt.dayofweek <= 6) # Sunday\n",
    "    & (df[\"preferred_entry_date\"].dt.month == 8) # August\n",
    "    & (df[\"preferred_entry_date\"].dt.day >= 10) # Mid-August\n",
    "    & (df[\"preferred_entry_date\"].dt.day <= 20) # Mid-August\n",
    "]\n",
    "\n",
    "# Get the entries for Monday-Wednesday trips in July\n",
    "monday_wednesday_entries = df[\n",
    "    (df[\"preferred_entry_date\"].dt.dayofweek >= 0) # Monday\n",
    "    & (df[\"preferred_entry_date\"].dt.dayofweek <= 2) # Wednesday\n",
    "    & (df[\"preferred_entry_date\"].dt.month == 7) # July\n",
    "]\n",
    "\n",
    "# Print the number of friday-sunday entries\n",
    "friday_sunday_entries_count = len(friday_sunday_entries)\n",
    "\n",
    "print(f\"Total Fri-Sun Entries in Mid August: {friday_sunday_entries_count}\")\n",
    "\n",
    "# Print the number of monday-wednesday entries\n",
    "monday_wednesday_entries_count = len(monday_wednesday_entries)\n",
    "\n",
    "print(f\"Total Mon-Wed Entries in July: {monday_wednesday_entries_count}\")"
   ]
  },
  {
   "cell_type": "code",
   "execution_count": 10,
   "metadata": {},
   "outputs": [
    {
     "name": "stdout",
     "output_type": "stream",
     "text": [
      "Total Awarded Fri-Sun Entries in Mid August: 317\n",
      "Total Awarded Mon-Wed Entries in July: 770\n"
     ]
    }
   ],
   "source": [
    "# Get the total awarded entries for Friday-Sunday trips in mid-August\n",
    "friday_sunday_awarded = friday_sunday_entries[\"awarded\"].sum()\n",
    "\n",
    "# Get the total awarded entries for Monday-Wednesday trips in July\n",
    "monday_wednesday_awarded = monday_wednesday_entries[\"awarded\"].sum()\n",
    "\n",
    "# Print the number of awarded entries for Friday-Sunday trips in mid-August\n",
    "print(f\"Total Awarded Fri-Sun Entries in Mid August: {friday_sunday_awarded}\")\n",
    "\n",
    "# Print the number of awarded entries for Monday-Wednesday trips in July\n",
    "print(f\"Total Awarded Mon-Wed Entries in July: {monday_wednesday_awarded}\")"
   ]
  },
  {
   "cell_type": "code",
   "execution_count": 11,
   "metadata": {},
   "outputs": [
    {
     "data": {
      "text/html": [
       "<div>\n",
       "<style scoped>\n",
       "    .dataframe tbody tr th:only-of-type {\n",
       "        vertical-align: middle;\n",
       "    }\n",
       "\n",
       "    .dataframe tbody tr th {\n",
       "        vertical-align: top;\n",
       "    }\n",
       "\n",
       "    .dataframe thead th {\n",
       "        text-align: right;\n",
       "    }\n",
       "</style>\n",
       "<table border=\"1\" class=\"dataframe\">\n",
       "  <thead>\n",
       "    <tr style=\"text-align: right;\">\n",
       "      <th></th>\n",
       "      <th>Entries</th>\n",
       "      <th>Awarded</th>\n",
       "    </tr>\n",
       "  </thead>\n",
       "  <tbody>\n",
       "    <tr>\n",
       "      <th>Friday-Sunday-Mid-August</th>\n",
       "      <td>26948</td>\n",
       "      <td>317</td>\n",
       "    </tr>\n",
       "    <tr>\n",
       "      <th>Monday-Wednesday-July</th>\n",
       "      <td>37497</td>\n",
       "      <td>770</td>\n",
       "    </tr>\n",
       "  </tbody>\n",
       "</table>\n",
       "</div>"
      ],
      "text/plain": [
       "                          Entries  Awarded\n",
       "Friday-Sunday-Mid-August    26948      317\n",
       "Monday-Wednesday-July       37497      770"
      ]
     },
     "execution_count": 11,
     "metadata": {},
     "output_type": "execute_result"
    }
   ],
   "source": [
    "# Create chart for chi-square test\n",
    "chi_squ_chart = pd.DataFrame(\n",
    "    {\n",
    "        \"Entries\": [friday_sunday_entries_count, monday_wednesday_entries_count],\n",
    "        \"Awarded\": [friday_sunday_awarded, monday_wednesday_awarded],\n",
    "    },\n",
    "    index=[\"Friday-Sunday-Mid-August\", \"Monday-Wednesday-July\"],\n",
    ")\n",
    "\n",
    "chi_squ_chart"
   ]
  },
  {
   "cell_type": "code",
   "execution_count": 12,
   "metadata": {},
   "outputs": [
    {
     "data": {
      "text/html": [
       "<div>\n",
       "<style scoped>\n",
       "    .dataframe tbody tr th:only-of-type {\n",
       "        vertical-align: middle;\n",
       "    }\n",
       "\n",
       "    .dataframe tbody tr th {\n",
       "        vertical-align: top;\n",
       "    }\n",
       "\n",
       "    .dataframe thead th {\n",
       "        text-align: right;\n",
       "    }\n",
       "</style>\n",
       "<table border=\"1\" class=\"dataframe\">\n",
       "  <thead>\n",
       "    <tr style=\"text-align: right;\">\n",
       "      <th></th>\n",
       "      <th>Entries</th>\n",
       "      <th>Awarded</th>\n",
       "      <th>expected</th>\n",
       "    </tr>\n",
       "  </thead>\n",
       "  <tbody>\n",
       "    <tr>\n",
       "      <th>Friday-Sunday-Mid-August</th>\n",
       "      <td>26948</td>\n",
       "      <td>317</td>\n",
       "      <td>455</td>\n",
       "    </tr>\n",
       "    <tr>\n",
       "      <th>Monday-Wednesday-July</th>\n",
       "      <td>37497</td>\n",
       "      <td>770</td>\n",
       "      <td>632</td>\n",
       "    </tr>\n",
       "  </tbody>\n",
       "</table>\n",
       "</div>"
      ],
      "text/plain": [
       "                          Entries  Awarded  expected\n",
       "Friday-Sunday-Mid-August    26948      317       455\n",
       "Monday-Wednesday-July       37497      770       632"
      ]
     },
     "execution_count": 12,
     "metadata": {},
     "output_type": "execute_result"
    }
   ],
   "source": [
    "# Calculate the expected number of awarded entries for each group\n",
    "chi_squ_chart[\"expected\"] = (chi_squ_chart[\"Awarded\"].sum() / chi_squ_chart[\"Entries\"].sum() * chi_squ_chart[\"Entries\"]).round().astype(int)    \n",
    "\n",
    "chi_squ_chart"
   ]
  },
  {
   "cell_type": "code",
   "execution_count": 13,
   "metadata": {},
   "outputs": [
    {
     "data": {
      "text/html": [
       "<div>\n",
       "<style scoped>\n",
       "    .dataframe tbody tr th:only-of-type {\n",
       "        vertical-align: middle;\n",
       "    }\n",
       "\n",
       "    .dataframe tbody tr th {\n",
       "        vertical-align: top;\n",
       "    }\n",
       "\n",
       "    .dataframe thead th {\n",
       "        text-align: right;\n",
       "    }\n",
       "</style>\n",
       "<table border=\"1\" class=\"dataframe\">\n",
       "  <thead>\n",
       "    <tr style=\"text-align: right;\">\n",
       "      <th></th>\n",
       "      <th>Entries</th>\n",
       "      <th>Awarded</th>\n",
       "      <th>expected</th>\n",
       "      <th>obs_odds</th>\n",
       "      <th>exp_odds</th>\n",
       "      <th>diff_squ</th>\n",
       "    </tr>\n",
       "  </thead>\n",
       "  <tbody>\n",
       "    <tr>\n",
       "      <th>Friday-Sunday-Mid-August</th>\n",
       "      <td>26948</td>\n",
       "      <td>317</td>\n",
       "      <td>455</td>\n",
       "      <td>0.011763</td>\n",
       "      <td>0.016884</td>\n",
       "      <td>19044</td>\n",
       "    </tr>\n",
       "    <tr>\n",
       "      <th>Monday-Wednesday-July</th>\n",
       "      <td>37497</td>\n",
       "      <td>770</td>\n",
       "      <td>632</td>\n",
       "      <td>0.020535</td>\n",
       "      <td>0.016855</td>\n",
       "      <td>19044</td>\n",
       "    </tr>\n",
       "  </tbody>\n",
       "</table>\n",
       "</div>"
      ],
      "text/plain": [
       "                          Entries  Awarded  expected  obs_odds  exp_odds  \\\n",
       "Friday-Sunday-Mid-August    26948      317       455  0.011763  0.016884   \n",
       "Monday-Wednesday-July       37497      770       632  0.020535  0.016855   \n",
       "\n",
       "                          diff_squ  \n",
       "Friday-Sunday-Mid-August     19044  \n",
       "Monday-Wednesday-July        19044  "
      ]
     },
     "execution_count": 13,
     "metadata": {},
     "output_type": "execute_result"
    }
   ],
   "source": [
    "# Create a column for the observed odds\n",
    "chi_squ_chart[\"obs_odds\"] = chi_squ_chart[\"Awarded\"] / chi_squ_chart[\"Entries\"]\n",
    "\n",
    "# Create a column for the expected odds\n",
    "chi_squ_chart[\"exp_odds\"] = chi_squ_chart[\"expected\"] / chi_squ_chart[\"Entries\"]\n",
    "\n",
    "# Calculate the difference between the observed and expected odds and square it\n",
    "chi_squ_chart[\"diff_squ\"] = (chi_squ_chart[\"Awarded\"] - chi_squ_chart[\"expected\"]).pow(2)\n",
    "\n",
    "chi_squ_chart"
   ]
  },
  {
   "cell_type": "markdown",
   "metadata": {},
   "source": [
    "### Step 3: Calculate the Chi-Square Test Stat"
   ]
  },
  {
   "cell_type": "code",
   "execution_count": 14,
   "metadata": {},
   "outputs": [
    {
     "data": {
      "text/plain": [
       "35.039558417663294"
      ]
     },
     "execution_count": 14,
     "metadata": {},
     "output_type": "execute_result"
    }
   ],
   "source": [
    "# Calculate the test statistic by summing the squared differences and dividing by the expected number of awarded entries\n",
    "chi_squ_test_stat_dow = chi_squ_chart[\"diff_squ\"].sum() / chi_squ_chart[\"expected\"].sum()\n",
    "\n",
    "chi_squ_test_stat_dow"
   ]
  },
  {
   "cell_type": "markdown",
   "metadata": {},
   "source": [
    "### Step 4: Calculate the Chi-Square Critical Value"
   ]
  },
  {
   "cell_type": "code",
   "execution_count": 15,
   "metadata": {},
   "outputs": [
    {
     "name": "stdout",
     "output_type": "stream",
     "text": [
      "Chi-square critical value: 2.705543454095404\n"
     ]
    }
   ],
   "source": [
    "# Import the chi-square critical value with df = 1 and alpha = 0.10 using scipy.stats\n",
    "from scipy.stats import chi2\n",
    "\n",
    "# Determine chi-square critical value with df = 1 and alpha = 0.10\n",
    "chi_squ_crit_val_dow = chi2.ppf(0.90, 1)\n",
    "\n",
    "print(f\"Chi-square critical value: {chi_squ_crit_val_dow}\")"
   ]
  },
  {
   "cell_type": "code",
   "execution_count": 16,
   "metadata": {},
   "outputs": [
    {
     "name": "stdout",
     "output_type": "stream",
     "text": [
      "Chi-square p-value: 3.230747447346971e-09\n"
     ]
    }
   ],
   "source": [
    "# Calculate the p-value using the chi-square test\n",
    "chi_squ_p_value_dow = 1 - chi2.cdf(chi_squ_test_stat_dow, 1)\n",
    "\n",
    "print(f\"Chi-square p-value: {chi_squ_p_value_dow}\")"
   ]
  },
  {
   "cell_type": "markdown",
   "metadata": {},
   "source": [
    "### Step 5: Compare the Test Statistic to the Critical Value\n",
    "\n",
    "The test statistic is well above the critical value with a p-value is essentially zero. Therefore, we reject the null hypothesis."
   ]
  },
  {
   "cell_type": "markdown",
   "metadata": {},
   "source": [
    "### Step 6: State Conclusions\n",
    "\n",
    "By rejecting the null hypothesis we have enough evidence to conclude that the proportions of being awarded a permit in Mid-August on Fri-Sun are not equal to the odds of winning a permit in July on Mon-Wed.\n",
    "\n",
    "This conclusion supports the claim made on the National Forest website that an applicants' odds of being awarded a permit are better on a Mon-Wed in July than on a Fri-Sun in mid-August."
   ]
  }
 ],
 "metadata": {
  "kernelspec": {
   "display_name": "venv",
   "language": "python",
   "name": "python3"
  },
  "language_info": {
   "codemirror_mode": {
    "name": "ipython",
    "version": 3
   },
   "file_extension": ".py",
   "mimetype": "text/x-python",
   "name": "python",
   "nbconvert_exporter": "python",
   "pygments_lexer": "ipython3",
   "version": "3.12.2"
  }
 },
 "nbformat": 4,
 "nbformat_minor": 2
}

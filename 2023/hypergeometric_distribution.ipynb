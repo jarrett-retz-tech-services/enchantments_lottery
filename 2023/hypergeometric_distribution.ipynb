{
 "cells": [
  {
   "cell_type": "markdown",
   "metadata": {},
   "source": [
    "# Hypergeometric Distribution"
   ]
  },
  {
   "cell_type": "markdown",
   "metadata": {},
   "source": [
    "## Can we use the normal distribution to approximate the binomial distribution in the Enchantments Lottery?\n",
    "\n",
    "With the Enchantments Lottery, you can either win or lose. The marginal probability of winning a permit in 2023 was **6.39% (2558/40031)**. Subsequenty, the odds of *not* winning a permit in 2023 were 93.61% (1 - 0.0639).\n",
    "\n",
    "However, people sometimes apply in \"groups\" to increase their chances of winning the lottery. For example, four people will apply individually but with a group size of four. Each individual's application has a chance of winning. If any one of them win, the others are invited on the trip. Thus, the applicants increase their odds of going on at least one backpacking trip into the Enchantments despite only being able to apply once.\n",
    "\n",
    "The question we want to explore is how this strategy affects a person's odds of \"winning\" the lottery.\n",
    "\n",
    "Working through my statistics book I wanted to discover if the chances of success could be estimated using a normal distribution, compared to something like a binomial distribution."
   ]
  },
  {
   "cell_type": "markdown",
   "metadata": {},
   "source": [
    "## Citation\n",
    "\n",
    "The statistical information and quotes on this page are taken from a college textbook which is comprised of three other books:\n",
    "\n",
    "*Business Statistics*\n",
    "by Robert A. Donnelly, Jr.\n",
    "Copyright © 2013 by Pearson Education, Inc.\n",
    "Published by Prentice Hall\n",
    "Upper Saddle River, New Jersey 07458\n",
    "\n",
    "*Business Statistics, Second Edition*\n",
    "by Norean R. Sharpe, Richard D. De Veaux, and Paul F. Velleman with contributions by David Bock Copyright © 2012, 2010 by Pearson Education, Inc.\n",
    "Published by Addison-Wesley Boston, Massachusetts 02116\n",
    "\n",
    "*Basic Business Statistics: Concepts & Applications, Twelfth Edition* by Mark L. Berenson, David M. Levine, and Timothy C. Krehbiel Copyright © 2012, 2009, 2006, 2004, 2002 by Pearson Education, Inc.\n",
    "Published by Prentice Hall"
   ]
  },
  {
   "cell_type": "markdown",
   "metadata": {},
   "source": [
    "## Binomial Distribution"
   ]
  },
  {
   "cell_type": "markdown",
   "metadata": {},
   "source": [
    ">A binomial probability distribution allows us to calculate the probability of a specific number of successes for a certain number of trials"
   ]
  },
  {
   "cell_type": "markdown",
   "metadata": {},
   "source": [
    "When first exploring the question of having multiple people in a group apply I needed to make sure that the binomial distribution was the right choice. Turns out, it wasn't! There are a few assumptions that aren't true.\n",
    "\n",
    "Binomial experiments have these four characteristics:\n",
    "1. Fixed number of trials\n",
    "2. Only two possible outcomes\n",
    "3. Probability of success and failure are constant throughout the experiment\n",
    "4. Each trial is independent of the other trials in the experiment\n",
    "\n",
    "The Enchantments Lottery breaks rules 3 and 4 because the trials are not independent if we are assuming a fixed number of permits awarded. This makes the binomial distribution the wrong fit."
   ]
  },
  {
   "cell_type": "markdown",
   "metadata": {},
   "source": [
    "## Hypergeometric Distribution\n",
    "\n",
    ">The hypergeometric distribution is used when samples are taken from a finite population without being replaced\n",
    "\n",
    "Conversely, the hypergeometric distribution may work, given some assumptions. If we assume that:\n",
    "1. Each entry has an equal chance of winning\n",
    "2. Each entry is randomly selected\n",
    "3. There are a fixed number of permits awarded each year (2,558 in the year 2023)"
   ]
  },
  {
   "cell_type": "markdown",
   "metadata": {
    "vscode": {
     "languageId": "plaintext"
    }
   },
   "source": [
    "With the hypergeometric model we can calculate the probability of *x* successes in *n* trials using a populations probability (calculated from *R* number of successes out of *N* population size). **The hypergeometric model is more appropriate because each winning application affects the chance of the next application winning**.\n",
    "\n",
    "First let's define our variables:\n",
    "\n",
    "- N = The population size = 40,031 entries\n",
    "- R = The number of successes in the population = 2,558 permits\n",
    "- n = The sample size = 4 (you and three other friends)\n",
    "- x = The numer of successes in the sample = 1\n",
    "\n",
    "### Equation for Hypergeometric Distribution\n",
    "\n",
    "The equation for the hypergeometric model uses combination calculations. Combination equations are represented a number of ways, here I write them as, <sub>a</sub>C<sub>b</sub>, or  <sub>total</sub>C<sub>selected</sub>\n",
    "\n",
    "P(x) = <sub>N-R</sub>C<sub>n-x</sub> * <sub>R</sub>C<sub>x</sub> / <sub>N</sub>C<sub>n</sub>\n",
    "\n",
    "#### After plugging in our numbers for one successful entry out of four\n",
    "\n",
    "P(1) = <sub>37,473</sub>C<sub>3</sub> * <sub>2558</sub>C<sub>1</sub> / <sub>40031</sub>C<sub>4</sub>\n",
    "\n",
    "P(1)\n",
    " = (8769389690096 * 2558) / 106981681437601465\n",
    "\n",
    " P(1) = 0.2096816812544622\n",
    "\n",
    "The probability of 1 out of the 4 entries being selected is approximately 21%. Given our assumptions having everyone in your group apply increases your chances considerably!"
   ]
  },
  {
   "cell_type": "markdown",
   "metadata": {},
   "source": [
    "#### Mean & Std. Dev\n",
    "\n",
    "We can also calculate the mean and standard deviation of our hypergeometric distribution:\n",
    "\n",
    "mean = nR / N\n",
    "\n",
    "mean = 4 * 2,558 / 40,031\n",
    "\n",
    "mean = 0.2556019085208963\n",
    "\n",
    "The mean is expressed as, if four samples are selected randomly, we would expect 0.2556 of them to be our groups applications.\n",
    "\n",
    "standard deviation = √(nR(N - R) / N<sup>2</sup>) * √(N - n / N - 1)\n",
    "\n",
    "standard deviation = √(4 * 2558(40031 - 2558) / 40031<sup>2</sup>) * √(40031 - 4 / 40031 - 1)\n",
    "\n",
    "In Python, we can calculate this equation using the `math` module:\n",
    "\n",
    "```\n",
    "import math\n",
    "\n",
    "math.sqrt((((4 * 2558) * (40031 - 2558)) / math.pow(40031, 2))) * math.sqrt(((40031 - 4) / (40031 - 1)))\n",
    "```\n",
    "\n",
    "standard deviation = 0.4891327967923988"
   ]
  },
  {
   "cell_type": "markdown",
   "metadata": {},
   "source": [
    "## Hypergeometric Probability Distribution in Python"
   ]
  },
  {
   "cell_type": "markdown",
   "metadata": {},
   "source": [
    "The Python package `scipy` has modules for easily building a hypergeometric probability distribution and calculating probabilities from it. This module is helpful for checking our math, plotting distributions, and—of course—calculating probabilities."
   ]
  },
  {
   "cell_type": "code",
   "execution_count": 8,
   "metadata": {},
   "outputs": [
    {
     "name": "stdout",
     "output_type": "stream",
     "text": [
      "Probability of 1 successes in the sample: 20.97%\n"
     ]
    }
   ],
   "source": [
    "# https://docs.scipy.org/doc/scipy/reference/generated/scipy.stats.hypergeom.html\n",
    "import numpy as np\n",
    "from scipy.stats import hypergeom\n",
    "\n",
    "[N, R, n] = [40031, 2558, 4]\n",
    "rv = hypergeom(N, R, n)\n",
    "\n",
    "x = 1 # Number of successes in the sample\n",
    "p_x = rv.pmf(x)\n",
    "\n",
    "print(f\"Probability of {x} successes in the sample: {p_x:.2%}\")"
   ]
  },
  {
   "cell_type": "code",
   "execution_count": 10,
   "metadata": {},
   "outputs": [
    {
     "name": "stdout",
     "output_type": "stream",
     "text": [
      "Mean: 0.26\n"
     ]
    }
   ],
   "source": [
    "mean = rv.mean()\n",
    "\n",
    "print(f\"Mean: {mean:.2f}\")"
   ]
  },
  {
   "cell_type": "code",
   "execution_count": 11,
   "metadata": {},
   "outputs": [
    {
     "name": "stdout",
     "output_type": "stream",
     "text": [
      "Standard deviation: 0.49\n"
     ]
    }
   ],
   "source": [
    "std_dev = rv.std()\n",
    "\n",
    "print(f\"Standard deviation: {std_dev:.2f}\")"
   ]
  },
  {
   "cell_type": "markdown",
   "metadata": {},
   "source": [
    "## Plot the Distribution for the Sample Size"
   ]
  },
  {
   "cell_type": "code",
   "execution_count": 24,
   "metadata": {},
   "outputs": [
    {
     "data": {
      "image/png": "[encoded data removed]",
      "text/plain": [
       "<Figure size 640x480 with 1 Axes>"
      ]
     },
     "metadata": {},
     "output_type": "display_data"
    }
   ],
   "source": [
    "import matplotlib.pyplot as plt\n",
    "\n",
    "x_n = np.arange(0, n+1)\n",
    "\n",
    "pmf_n = rv.pmf(x_n)\n",
    "\n",
    "fig = plt.figure()\n",
    "ax = fig.add_subplot(111)\n",
    "ax.plot(x_n, pmf_n, 'bo')\n",
    "ax.vlines(x_n, 0, pmf_n, lw=2)\n",
    "ax.set_xlabel('Num. of Successful Entries in Group')\n",
    "ax.set_ylabel('Probability of Success')\n",
    "# Set y-tick values between 0 and 1\n",
    "ax.set_yticks(np.arange(0, 1.1, 0.1))\n",
    "vals = ax.get_yticks()\n",
    "# Set y-tick labels as percentages\n",
    "ax.set_yticklabels(['{:,.0%}'.format(x) for x in vals])\n",
    "ax.set_title('Hypergeometric PMF: N=%i, R=%i, n=%i' % (N, R, n))\n",
    "ax.xaxis.set(ticks=range(0, n+1))\n",
    "plt.show()"
   ]
  }
 ],
 "metadata": {
  "kernelspec": {
   "display_name": "venv",
   "language": "python",
   "name": "python3"
  },
  "language_info": {
   "codemirror_mode": {
    "name": "ipython",
    "version": 3
   },
   "file_extension": ".py",
   "mimetype": "text/x-python",
   "name": "python",
   "nbconvert_exporter": "python",
   "pygments_lexer": "ipython3",
   "version": "3.12.2"
  }
 },
 "nbformat": 4,
 "nbformat_minor": 2
}
